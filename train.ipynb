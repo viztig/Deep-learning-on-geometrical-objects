{
 "cells": [
  {
   "cell_type": "code",
   "execution_count": 1,
   "metadata": {},
   "outputs": [],
   "source": [
    "from spec import *"
   ]
  },
  {
   "cell_type": "code",
   "execution_count": 2,
   "metadata": {},
   "outputs": [
    {
     "name": "stdout",
     "output_type": "stream",
     "text": [
      "Jupyter environment detected. Enabling Open3D WebVisualizer.\n",
      "[Open3D INFO] WebRTC GUI backend enabled.\n",
      "[Open3D INFO] WebRTCWindowSystem: HTTP handshake server disabled.\n",
      "cuda\n"
     ]
    }
   ],
   "source": [
    "if model==\"Pointnet_cls\":\n",
    "  from pointnet import *\n",
    "  model_train=Pointnet_cls()\n",
    "if model==\"Pointnet_seg\":\n",
    "  from pointnet_seg import *\n",
    "  from pointnet_seg import Pointnet_seg\n",
    "  model_train=Pointnet_seg()\n",
    "if model==\"Pointnet_PP\":\n",
    "  from pointnet_PP import *\n",
    "  model_train=FullModel()\n",
    "if model==\"GAPnet_cls\":\n",
    "  from gapnet_cls import *\n",
    "  model_train=GAPnet_cls()\n",
    "if model==\"GAPnet_seg\":\n",
    "  from gapnet_seg import *\n",
    "  model_train=GAPnet_seg()\n",
    "if model==\"HPE\":\n",
    "  from hpe import *\n",
    "  model_train=HPE(3,128)"
   ]
  },
  {
   "cell_type": "code",
   "execution_count": 2,
   "metadata": {},
   "outputs": [
    {
     "name": "stdout",
     "output_type": "stream",
     "text": [
      "Jupyter environment detected. Enabling Open3D WebVisualizer.\n",
      "[Open3D INFO] WebRTC GUI backend enabled.\n",
      "[Open3D INFO] WebRTCWindowSystem: HTTP handshake server disabled.\n"
     ]
    }
   ],
   "source": [
    "from pointnet import *"
   ]
  },
  {
   "cell_type": "code",
   "execution_count": 3,
   "metadata": {},
   "outputs": [],
   "source": [
    "device = torch.device('cpu')\n",
    "if torch.cuda.is_available():device = torch.device('cuda')"
   ]
  },
  {
   "cell_type": "code",
   "execution_count": 4,
   "metadata": {},
   "outputs": [],
   "source": [
    "df=pd.read_excel(target_file_path)\n",
    "df.set_index(\"Name\", inplace = True)\n",
    "file_paths = list_files(directory_path)"
   ]
  },
  {
   "cell_type": "code",
   "execution_count": 5,
   "metadata": {},
   "outputs": [],
   "source": [
    "if model==\"Pointnet_cls\" or model==\"Pointnet_seg\" or model==\"Pointnet_PP\":\n",
    "  class Train:\n",
    "    def __init__(self,_model,epochs,batch_size=1,learning_rate=0.000001,momentum=0.8):\n",
    "      self.batch=batch_size\n",
    "      self.lr=learning_rate\n",
    "      self.epochs=epochs\n",
    "      self.momentum=momentum\n",
    "      self.optimizer=torch.optim.SGD(_model.parameters(),lr=self.lr,momentum=self.momentum)\n",
    "      #self.optimizer=torch.optim.Adam(_model.parameters(),lr=self.lr)\n",
    "      self.loss_fn=nn.L1Loss()\n",
    "      self.model=_model\n",
    "    def train(self):\n",
    "      print(f\"Using device:{device}\")\n",
    "      print(\"Starting Training\")\n",
    "      self.model.train()\n",
    "      for ep in range(self.epochs):\n",
    "        total_epoch_loss=0\n",
    "        for file in file_paths:\n",
    "          pcd=o3d.io.read_point_cloud(file)\n",
    "          mat,centroid,dist=normalize_pc(pcd)\n",
    "          mat,centroid,dist=mat.to(device),centroid.to(device),dist.to(device)\n",
    "          res=df.loc[file[len(directory_path)+1:-4]]\n",
    "          material=torch.tensor([res['BI'],res['CI'], res['BB'],res['CB'],res['BP'],res['CP'],res['V']],dtype=torch.float32)\n",
    "          material/=10\n",
    "          material=material.to(device)\n",
    "          trg=torch.tensor((torch.from_numpy(np.asarray([res['XS'],res['ZS'],res['TS']]))),dtype=torch.float32,requires_grad=True).to(device)\n",
    "          output=denormalize_pc(self.model(mat,material),centroid,dist).to(device)\n",
    "          self.optimizer.zero_grad()\n",
    "          loss=self.loss_fn(output,trg)\n",
    "          total_epoch_loss+=loss.item()\n",
    "          loss.backward()\n",
    "          torch.nn.utils.clip_grad_norm_(self.model.parameters(),max_norm=1)\n",
    "          self.optimizer.step()\n",
    "        print(f\"Epoch:[{ep}/{self.epochs}] Epoch Loss:[{total_epoch_loss}]\")\n",
    "elif model==\"GAPnet_cls\":\n",
    "  class Train:\n",
    "    def __init__(self,_model,epochs,batch_size=1,learning_rate=0.00001,momentum=0.8):\n",
    "      self.batch=batch_size\n",
    "      self.lr=learning_rate\n",
    "      self.epochs=epochs\n",
    "      self.momentum=momentum\n",
    "      #self.optimizer=torch.optim.Adam(_model.parameters(),lr=self.lr)\n",
    "      self.optimizer=torch.optim.SGD(_model.parameters(),lr=self.lr,momentum=self.momentum)\n",
    "      self.loss_fn=nn.L1Loss()\n",
    "      self.model=_model\n",
    "    def train(self):\n",
    "      print(\"starting\")\n",
    "      self.model.train()\n",
    "      for ep in range(self.epochs):\n",
    "        total_epoch_loss=0\n",
    "        for file in file_paths:\n",
    "          pcd=o3d.io.read_point_cloud(file)\n",
    "          mat,centroid,dist=normalize_pc(pcd)\n",
    "          xknn=kdtree(mat).to(device)\n",
    "          mat,centroid,dist=mat.to(device),centroid.to(device),dist.to(device)\n",
    "          res=df.loc[file[len(directory_path)+1:-4]]\n",
    "          trg=torch.tensor((torch.from_numpy(np.asarray([res['XS'],res['YS'],res['ZS']]))),dtype=torch.float32,requires_grad=True).to(device)\n",
    "          output=denormalize_pc(self.model(xknn,mat),centroid,dist)\n",
    "          #output=torch.tensor([_output[0],_output[2]],dtype=torch.float32,requires_grad=True).to(device)\n",
    "          self.optimizer.zero_grad()\n",
    "          loss=self.loss_fn(output,trg)\n",
    "          total_epoch_loss+=loss.item()\n",
    "          loss.backward()\n",
    "          torch.nn.utils.clip_grad_norm_(self.model.parameters(),max_norm=1)\n",
    "          self.optimizer.step()\n",
    "          #if int(total_epoch_loss)<3 and ep>50:c=1\n",
    "        #if c==1:break\n",
    "        #if ep%10==0:self.lr=(self.lr)/4\n",
    "        print(f\"Epoch:[{ep}/{self.epochs}] Epoch Loss:[{total_epoch_loss}] lr:{self.lr}\")\n",
    "else:\n",
    "  class Train:\n",
    "    def __init__(self,_model,epochs,batch_size=1,learning_rate=0.00001,momentum=0.8):\n",
    "      self.batch=batch_size\n",
    "      self.lr=learning_rate\n",
    "      self.epochs=epochs\n",
    "      self.momentum=momentum\n",
    "      #self.optimizer=torch.optim.Adam(_model.parameters(),lr=self.lr)\n",
    "      self.optimizer=torch.optim.SGD(_model.parameters(),lr=self.lr,momentum=self.momentum)\n",
    "      self.loss_fn=nn.L1Loss()\n",
    "      self.model=_model\n",
    "    def train(self):\n",
    "      print(\"starting\")\n",
    "      self.model.train()\n",
    "      for ep in range(self.epochs):\n",
    "        total_epoch_loss=0\n",
    "        for file in file_paths:\n",
    "          pcd=o3d.io.read_point_cloud(file)\n",
    "          mat,centroid,dist=normalize_pc(pcd)\n",
    "          centroid,dist=centroid.to(device),dist.to(device)\n",
    "          res=df.loc[file[len(directory_path)+1:-4]]\n",
    "          trg=torch.tensor((torch.from_numpy(np.asarray([res['XS'],res['YS'],res['ZS']]))),dtype=torch.float32,requires_grad=True).to(device)\n",
    "          output=denormalize_pc(self.model(mat),centroid,dist)\n",
    "          #output=torch.tensor([_output[0],_output[2]],dtype=torch.float32,requires_grad=True).to(device)\n",
    "          self.optimizer.zero_grad()\n",
    "          loss=self.loss_fn(output,trg)\n",
    "          total_epoch_loss+=loss.item()\n",
    "          loss.backward()\n",
    "          torch.nn.utils.clip_grad_norm_(self.model.parameters(),max_norm=1)\n",
    "          self.optimizer.step()\n",
    "          #if int(total_epoch_loss)<3 and ep>50:c=1\n",
    "        #if c==1:break\n",
    "        #if ep%10==0:self.lr=(self.lr)/4\n",
    "        print(f\"Epoch:[{ep}/{self.epochs}] Epoch Loss:[{total_epoch_loss}] lr:{self.lr}\")"
   ]
  },
  {
   "cell_type": "code",
   "execution_count": 6,
   "metadata": {},
   "outputs": [
    {
     "name": "stdout",
     "output_type": "stream",
     "text": [
      "starting\n",
      "Epoch:[0/1000] Epoch Loss:[9469.921127319336] lr:1e-05\n",
      "Epoch:[1/1000] Epoch Loss:[9425.585220336914] lr:1e-05\n",
      "Epoch:[2/1000] Epoch Loss:[9380.303573608398] lr:1e-05\n",
      "Epoch:[3/1000] Epoch Loss:[9335.019912719727] lr:1e-05\n"
     ]
    },
    {
     "ename": "KeyboardInterrupt",
     "evalue": "",
     "output_type": "error",
     "traceback": [
      "\u001b[1;31m---------------------------------------------------------------------------\u001b[0m",
      "\u001b[1;31mKeyboardInterrupt\u001b[0m                         Traceback (most recent call last)",
      "\u001b[1;32mc:\\Users\\vavikas\\Desktop\\nvidia_cuda\\pro5\\model\\train.ipynb Cell 11\u001b[0m line \u001b[0;36m3\n\u001b[0;32m      <a href='vscode-notebook-cell:/c%3A/Users/vavikas/Desktop/nvidia_cuda/pro5/model/train.ipynb#X14sZmlsZQ%3D%3D?line=0'>1</a>\u001b[0m model_train\u001b[39m=\u001b[39mmodel_train\u001b[39m.\u001b[39mto(device)\n\u001b[0;32m      <a href='vscode-notebook-cell:/c%3A/Users/vavikas/Desktop/nvidia_cuda/pro5/model/train.ipynb#X14sZmlsZQ%3D%3D?line=1'>2</a>\u001b[0m _train\u001b[39m=\u001b[39mTrain(model_train,\u001b[39m1000\u001b[39m,learning_rate\u001b[39m=\u001b[39m\u001b[39m0.00001\u001b[39m)\n\u001b[1;32m----> <a href='vscode-notebook-cell:/c%3A/Users/vavikas/Desktop/nvidia_cuda/pro5/model/train.ipynb#X14sZmlsZQ%3D%3D?line=2'>3</a>\u001b[0m _train\u001b[39m.\u001b[39;49mtrain()\n",
      "\u001b[1;32mc:\\Users\\vavikas\\Desktop\\nvidia_cuda\\pro5\\model\\train.ipynb Cell 11\u001b[0m line \u001b[0;36m6\n\u001b[0;32m     <a href='vscode-notebook-cell:/c%3A/Users/vavikas/Desktop/nvidia_cuda/pro5/model/train.ipynb#X14sZmlsZQ%3D%3D?line=60'>61</a>\u001b[0m loss\u001b[39m=\u001b[39m\u001b[39mself\u001b[39m\u001b[39m.\u001b[39mloss_fn(output,trg)\n\u001b[0;32m     <a href='vscode-notebook-cell:/c%3A/Users/vavikas/Desktop/nvidia_cuda/pro5/model/train.ipynb#X14sZmlsZQ%3D%3D?line=61'>62</a>\u001b[0m total_epoch_loss\u001b[39m+\u001b[39m\u001b[39m=\u001b[39mloss\u001b[39m.\u001b[39mitem()\n\u001b[1;32m---> <a href='vscode-notebook-cell:/c%3A/Users/vavikas/Desktop/nvidia_cuda/pro5/model/train.ipynb#X14sZmlsZQ%3D%3D?line=62'>63</a>\u001b[0m loss\u001b[39m.\u001b[39;49mbackward()\n\u001b[0;32m     <a href='vscode-notebook-cell:/c%3A/Users/vavikas/Desktop/nvidia_cuda/pro5/model/train.ipynb#X14sZmlsZQ%3D%3D?line=63'>64</a>\u001b[0m torch\u001b[39m.\u001b[39mnn\u001b[39m.\u001b[39mutils\u001b[39m.\u001b[39mclip_grad_norm_(\u001b[39mself\u001b[39m\u001b[39m.\u001b[39mmodel\u001b[39m.\u001b[39mparameters(),max_norm\u001b[39m=\u001b[39m\u001b[39m1\u001b[39m)\n\u001b[0;32m     <a href='vscode-notebook-cell:/c%3A/Users/vavikas/Desktop/nvidia_cuda/pro5/model/train.ipynb#X14sZmlsZQ%3D%3D?line=64'>65</a>\u001b[0m \u001b[39mself\u001b[39m\u001b[39m.\u001b[39moptimizer\u001b[39m.\u001b[39mstep()\n",
      "File \u001b[1;32mc:\\Users\\vavikas\\Desktop\\nvidia_cuda\\pro5\\venv\\lib\\site-packages\\torch\\_tensor.py:487\u001b[0m, in \u001b[0;36mTensor.backward\u001b[1;34m(self, gradient, retain_graph, create_graph, inputs)\u001b[0m\n\u001b[0;32m    477\u001b[0m \u001b[39mif\u001b[39;00m has_torch_function_unary(\u001b[39mself\u001b[39m):\n\u001b[0;32m    478\u001b[0m     \u001b[39mreturn\u001b[39;00m handle_torch_function(\n\u001b[0;32m    479\u001b[0m         Tensor\u001b[39m.\u001b[39mbackward,\n\u001b[0;32m    480\u001b[0m         (\u001b[39mself\u001b[39m,),\n\u001b[1;32m   (...)\u001b[0m\n\u001b[0;32m    485\u001b[0m         inputs\u001b[39m=\u001b[39minputs,\n\u001b[0;32m    486\u001b[0m     )\n\u001b[1;32m--> 487\u001b[0m torch\u001b[39m.\u001b[39;49mautograd\u001b[39m.\u001b[39;49mbackward(\n\u001b[0;32m    488\u001b[0m     \u001b[39mself\u001b[39;49m, gradient, retain_graph, create_graph, inputs\u001b[39m=\u001b[39;49minputs\n\u001b[0;32m    489\u001b[0m )\n",
      "File \u001b[1;32mc:\\Users\\vavikas\\Desktop\\nvidia_cuda\\pro5\\venv\\lib\\site-packages\\torch\\autograd\\__init__.py:200\u001b[0m, in \u001b[0;36mbackward\u001b[1;34m(tensors, grad_tensors, retain_graph, create_graph, grad_variables, inputs)\u001b[0m\n\u001b[0;32m    195\u001b[0m     retain_graph \u001b[39m=\u001b[39m create_graph\n\u001b[0;32m    197\u001b[0m \u001b[39m# The reason we repeat same the comment below is that\u001b[39;00m\n\u001b[0;32m    198\u001b[0m \u001b[39m# some Python versions print out the first line of a multi-line function\u001b[39;00m\n\u001b[0;32m    199\u001b[0m \u001b[39m# calls in the traceback and some print out the last line\u001b[39;00m\n\u001b[1;32m--> 200\u001b[0m Variable\u001b[39m.\u001b[39;49m_execution_engine\u001b[39m.\u001b[39;49mrun_backward(  \u001b[39m# Calls into the C++ engine to run the backward pass\u001b[39;49;00m\n\u001b[0;32m    201\u001b[0m     tensors, grad_tensors_, retain_graph, create_graph, inputs,\n\u001b[0;32m    202\u001b[0m     allow_unreachable\u001b[39m=\u001b[39;49m\u001b[39mTrue\u001b[39;49;00m, accumulate_grad\u001b[39m=\u001b[39;49m\u001b[39mTrue\u001b[39;49;00m)\n",
      "\u001b[1;31mKeyboardInterrupt\u001b[0m: "
     ]
    }
   ],
   "source": [
    "model_train=model_train.to(device)\n",
    "_train=Train(model_train,1000,learning_rate=0.00001)\n",
    "_train.train()"
   ]
  },
  {
   "cell_type": "code",
   "execution_count": null,
   "metadata": {},
   "outputs": [],
   "source": [
    "model_saved = Pointnet_cls().to(device)\n",
    "model_path = 'model_pointnet.pth'\n",
    "# Load the saved state dictionary\n",
    "model_saved.load_state_dict(torch.load(model_path))\n",
    "model_saved=model_saved.to(device)"
   ]
  },
  {
   "cell_type": "code",
   "execution_count": null,
   "metadata": {},
   "outputs": [],
   "source": [
    "model_saved_path=\"model_pointnet.pth\"\n",
    "_train=Train(model_saved,500)\n",
    "_train.train()"
   ]
  },
  {
   "cell_type": "code",
   "execution_count": null,
   "metadata": {},
   "outputs": [],
   "source": [
    "\n",
    "class Train:\n",
    "  def __init__(self,_model,epochs,batch_size=1,learning_rate=0.000001,momentum=0.8):\n",
    "    self.batch=batch_size\n",
    "    self.lr=learning_rate\n",
    "    self.epochs=epochs\n",
    "    self.momentum=momentum\n",
    "    self.optimizer=torch.optim.SGD(_model.parameters(),lr=self.lr,momentum=self.momentum)\n",
    "    #self.optimizer=torch.optim.Adam(_model.parameters(),lr=self.lr)\n",
    "    self.loss_fn=nn.L1Loss()\n",
    "    self.model=_model\n",
    "  def train(self):\n",
    "    print(f\"Using device:{device}\")\n",
    "    print(\"Starting Training\")\n",
    "    self.model.train()\n",
    "    for ep in range(self.epochs):\n",
    "      total_epoch_loss=0\n",
    "      for file in file_paths:\n",
    "        pcd=o3d.io.read_point_cloud(file)\n",
    "        mat,centroid,dist=normalize_pc(pcd)\n",
    "        mat,centroid,dist=mat.to(device),centroid.to(device),dist.to(device)\n",
    "        res=df.loc[file[len(directory_path)+1:-4]]\n",
    "        material=torch.tensor([res['BI'],res['CI'], res['BB'],res['CB'],res['BP'],res['CP'],res['V']],dtype=torch.float32)\n",
    "        material/=10\n",
    "        material=material.to(device)\n",
    "        trg=torch.tensor((torch.from_numpy(np.asarray([res['XS'],res['ZS'],res['TS']]))),dtype=torch.float32,requires_grad=True).to(device)\n",
    "        output=denormalize_pc(self.model(mat,material),centroid,dist).to(device)\n",
    "        self.optimizer.zero_grad()\n",
    "        loss=self.loss_fn(output,trg)\n",
    "        total_epoch_loss+=loss.item()\n",
    "        loss.backward()\n",
    "        torch.nn.utils.clip_grad_norm_(self.model.parameters(),max_norm=1)\n",
    "        self.optimizer.step()\n",
    "      print(f\"Epoch:[{ep}/{self.epochs}] Epoch Loss:[{total_epoch_loss}]\")\n"
   ]
  }
 ],
 "metadata": {
  "kernelspec": {
   "display_name": "venv",
   "language": "python",
   "name": "python3"
  },
  "language_info": {
   "codemirror_mode": {
    "name": "ipython",
    "version": 3
   },
   "file_extension": ".py",
   "mimetype": "text/x-python",
   "name": "python",
   "nbconvert_exporter": "python",
   "pygments_lexer": "ipython3",
   "version": "3.10.9"
  }
 },
 "nbformat": 4,
 "nbformat_minor": 2
}
