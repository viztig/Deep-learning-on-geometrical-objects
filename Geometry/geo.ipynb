{
 "cells": [
  {
   "cell_type": "code",
   "execution_count": 1,
   "metadata": {},
   "outputs": [
    {
     "name": "stdout",
     "output_type": "stream",
     "text": [
      "Jupyter environment detected. Enabling Open3D WebVisualizer.\n",
      "[Open3D INFO] WebRTC GUI backend enabled.\n",
      "[Open3D INFO] WebRTCWindowSystem: HTTP handshake server disabled.\n"
     ]
    }
   ],
   "source": [
    "import open3d as o3d\n",
    "import numpy as np\n",
    "import subprocess\n",
    "import os\n",
    "import sys"
   ]
  },
  {
   "cell_type": "code",
   "execution_count": 5,
   "metadata": {},
   "outputs": [],
   "source": [
    "input_folder=\"old\"\n",
    "output_folder=\"new_ply\"\n",
    "subprocess.run([\"g++\", \"convert_to_pointcloud.cpp\", \"-o\", \"./a.exe\"])\n",
    "cpp_args = [input_folder,output_folder]\n",
    "subprocess.run([\"./a.exe\"]+cpp_args, stdout=subprocess.PIPE, text=True)"
   ]
  },
  {
   "cell_type": "code",
   "execution_count": 6,
   "metadata": {},
   "outputs": [],
   "source": [
    "def furthest_point_sampling(pcd,num_points):\n",
    "    '''\n",
    "    Furthest Point Sampling Algorithm\n",
    "    Takes as input:\n",
    "    pcd->point cloud(.ply) file\n",
    "    num_points->user defined number of points for down-sampling\n",
    "    Returns:new down-sampled point cloud(.ply)\n",
    "    '''\n",
    "    distances = pcd.compute_nearest_neighbor_distance()\n",
    "    farthest_indices = np.zeros((num_points,), dtype=np.int32)\n",
    "    seed = 0\n",
    "    farthest_indices[0] = seed\n",
    "    for i in range(1, num_points):\n",
    "        seed = int(np.argmax(distances))\n",
    "        farthest_indices[i] = seed\n",
    "        distances[seed] = -1 \n",
    "    downpcd=pcd.select_by_index(farthest_indices)\n",
    "    cl, index = downpcd.remove_statistical_outlier(nb_neighbors=400,std_ratio=2)\n",
    "    #outlier_cloud = downpcd.select_by_index(index, invert=True)\n",
    "    return downpcd.select_by_index(index)\n",
    "def outlier_remove(pcd,nb_neighbours,std_ratio):\n",
    "    '''\n",
    "    Removes the outlier from the point cloud\n",
    "    Input:\n",
    "    pcd->original point cloud\n",
    "    nb_neighbours=user defined value. Should be around 10\n",
    "    std_ratio=user defined value which provides the extent of outlier removal.Very high or very low values will lead to bad accuracy.Should be between:2-5\n",
    "    Returns: new point cloud with outliers removed\n",
    "    '''\n",
    "    cl, index = pcd.remove_statistical_outlier(nb_neighbours,std_ratio)\n",
    "    inlier_cloud = pcd.select_by_index(index)\n",
    "    outlier_cloud = pcd.select_by_index(index, invert=True)\n",
    "    return pcd.select_by_index(index)"
   ]
  },
  {
   "cell_type": "code",
   "execution_count": 10,
   "metadata": {},
   "outputs": [],
   "source": [
    "'''\n",
    "Sample usage without any downsampling or outlier removal\n",
    "To see the original point cloud\n",
    "'''\n",
    "file_name=\"down_ply/p1.ply\"\n",
    "pcd=o3d.io.read_point_cloud(file_name)\n",
    "o3d.visualization.draw_geometries([pcd])"
   ]
  },
  {
   "cell_type": "code",
   "execution_count": 4,
   "metadata": {},
   "outputs": [
    {
     "name": "stdout",
     "output_type": "stream",
     "text": [
      "[Open3D WARNING] Read PLY failed: unable to read file: p1.ply\n",
      "[PointCloud with 19426 points.]\n"
     ]
    }
   ],
   "source": [
    "'''\n",
    "Sample usage with downsampling to num_points and outlier removal with std_ratio=5 and nb_neighbours=10\n",
    "To see the original point cloud\n",
    "'''\n",
    "file_name=\"p1.ply\"\n",
    "num_points=20000\n",
    "pcd=o3d.io.read_point_cloud(file_name)\n",
    "dpcd=furthest_point_sampling(pcd,num_points)\n",
    "dpcd=outlier_remove(dpcd,10,5)\n",
    "print([dpcd])\n",
    "o3d.visualization.draw_geometries([dpcd])"
   ]
  },
  {
   "cell_type": "code",
   "execution_count": 3,
   "metadata": {},
   "outputs": [],
   "source": [
    "def list_files(directory):\n",
    "    '''\n",
    "    this function reads the directory which contains the point cloud(.ply) files to be downsampled\n",
    "    '''\n",
    "    files = []\n",
    "    for root, dirs, filenames in os.walk(directory):\n",
    "        for filename in filenames:\n",
    "            files.append(os.path.join(root, filename))\n",
    "    return files"
   ]
  },
  {
   "cell_type": "code",
   "execution_count": 8,
   "metadata": {},
   "outputs": [
    {
     "name": "stdout",
     "output_type": "stream",
     "text": [
      "[Open3D WARNING] Read PLY failed: unable to read file: old_ply\\BR236-A236_1SR_DEF_10WFP_HP-1-M50BR236-A236_1SR_DEF_10WFP_HP-1-M50_08081010.ply\n",
      "[PointCloud with 19340 points.]\n",
      "[Open3D WARNING] Read PLY failed: unable to read file: old_ply\\p1.ply\n",
      "[PointCloud with 19426 points.]\n"
     ]
    }
   ],
   "source": [
    "'''\n",
    "Sample usage with downsampling to num_points and outlier removal with std_ratio=5 and nb_neighbours=10\n",
    "to downsample all the point cloud(.ply) files from old_folder_path to new_folder_path\n",
    "\n",
    "old_folder_path:containing all the original point clouds that you want to down-sample\n",
    "new_folder_path:the folder where you want to save all the down-sampled point clouds(.ply)\n",
    "num_points=to how mnay points you want to down-sample the point cloud\n",
    "'''\n",
    "old_folder_path=\"old_ply\"\n",
    "new_folder_path=\"down_ply\"\n",
    "file_paths = list_files(old_folder_path)\n",
    "num_points=20000\n",
    "for file in file_paths:\n",
    "    pcd=o3d.io.read_point_cloud(file)\n",
    "    dpcd=furthest_point_sampling(pcd,num_points)\n",
    "    dpcd=outlier_remove(dpcd,10,5)\n",
    "    new_file_path=new_folder_path+\"/\"+file[len(old_folder_path)+1:]\n",
    "    o3d.io.write_point_cloud(new_file_path,dpcd)\n",
    "    print([dpcd])\n",
    "    #o3d.visualization.draw_geometries([dpcd])\n"
   ]
  }
 ],
 "metadata": {
  "kernelspec": {
   "display_name": "venv",
   "language": "python",
   "name": "python3"
  },
  "language_info": {
   "codemirror_mode": {
    "name": "ipython",
    "version": 3
   },
   "file_extension": ".py",
   "mimetype": "text/x-python",
   "name": "python",
   "nbconvert_exporter": "python",
   "pygments_lexer": "ipython3",
   "version": "3.10.8"
  }
 },
 "nbformat": 4,
 "nbformat_minor": 2
}
