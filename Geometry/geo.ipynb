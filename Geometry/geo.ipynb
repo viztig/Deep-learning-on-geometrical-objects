{
 "cells": [
  {
   "cell_type": "code",
   "execution_count": 9,
   "metadata": {},
   "outputs": [],
   "source": [
    "file_name=\"BR236-A236_1SR_DEF_6W-PP_SAE.inc\""
   ]
  },
  {
   "cell_type": "code",
   "execution_count": 10,
   "metadata": {},
   "outputs": [],
   "source": [
    "import open3d as o3d\n",
    "import numpy as np\n",
    "import subprocess"
   ]
  },
  {
   "cell_type": "code",
   "execution_count": null,
   "metadata": {},
   "outputs": [],
   "source": [
    "subprocess.run([\"g++\", \"readF.cpp\", \"-o\", \"./a.exe\"])\n",
    "cpp_args = [str(),\".ply\"]\n",
    "output=subprocess.run([\"./a.exe\"]+cpp_args, stdout=subprocess.PIPE, text=True)"
   ]
  },
  {
   "cell_type": "code",
   "execution_count": 3,
   "metadata": {},
   "outputs": [],
   "source": [
    "def furthest_point_sampling(pcd,num_points):\n",
    "    '''\n",
    "    Furthest Point Sampling Algorithm\n",
    "    Takes as input:\n",
    "    pcd->point cloud(.ply) file\n",
    "    num_points->user defined number of points for down-sampling\n",
    "    Returns:new down-sampled point cloud(.ply)\n",
    "    '''\n",
    "    distances = pcd.compute_nearest_neighbor_distance()\n",
    "    farthest_indices = np.zeros((num_points,), dtype=np.int32)\n",
    "    seed = 0\n",
    "    farthest_indices[0] = seed\n",
    "    for i in range(1, num_points):\n",
    "        seed = int(np.argmax(distances))\n",
    "        farthest_indices[i] = seed\n",
    "        distances[seed] = -1 \n",
    "    downpcd=pcd.select_by_index(farthest_indices)\n",
    "    cl, index = downpcd.remove_statistical_outlier(nb_neighbors=400,std_ratio=2)\n",
    "    #outlier_cloud = downpcd.select_by_index(index, invert=True)\n",
    "    return downpcd.select_by_index(index)\n",
    "    "
   ]
  },
  {
   "cell_type": "code",
   "execution_count": 4,
   "metadata": {},
   "outputs": [],
   "source": [
    "def outlier_remove(pcd,nb_neighbours,std_ratio):\n",
    "    cl, index = pcd.remove_statistical_outlier(nb_neighbours,std_ratio)\n",
    "    inlier_cloud = pcd.select_by_index(index)\n",
    "    outlier_cloud = pcd.select_by_index(index, invert=True)\n",
    "    return pcd.select_by_index(index)"
   ]
  },
  {
   "cell_type": "code",
   "execution_count": 2,
   "metadata": {},
   "outputs": [
    {
     "name": "stdout",
     "output_type": "stream",
     "text": [
      "[Open3D WARNING] Read PLY failed: unable to read file: p1.ply\n"
     ]
    }
   ],
   "source": [
    "pcd=o3d.io.read_point_cloud(\"p1.ply\")\n",
    "o3d.visualization.draw_geometries([pcd])"
   ]
  },
  {
   "cell_type": "code",
   "execution_count": 8,
   "metadata": {},
   "outputs": [
    {
     "name": "stdout",
     "output_type": "stream",
     "text": [
      "[Open3D WARNING] Read PLY failed: unable to read file: p1.ply\n",
      "[PointCloud with 19430 points.]\n"
     ]
    }
   ],
   "source": [
    "file_name=\"p1.ply\"\n",
    "num_points=20000\n",
    "pcd=o3d.io.read_point_cloud(file_name)\n",
    "dpcd=furthest_point_sampling(pcd,num_points)\n",
    "dpcd=outlier_remove(dpcd,5,5)\n",
    "print([dpcd])\n",
    "o3d.visualization.draw_geometries([dpcd])"
   ]
  }
 ],
 "metadata": {
  "kernelspec": {
   "display_name": "venv",
   "language": "python",
   "name": "python3"
  },
  "language_info": {
   "codemirror_mode": {
    "name": "ipython",
    "version": 3
   },
   "file_extension": ".py",
   "mimetype": "text/x-python",
   "name": "python",
   "nbconvert_exporter": "python",
   "pygments_lexer": "ipython3",
   "version": "3.10.8"
  }
 },
 "nbformat": 4,
 "nbformat_minor": 2
}
