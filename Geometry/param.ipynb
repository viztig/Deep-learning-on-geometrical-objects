{
 "cells": [
  {
   "cell_type": "code",
   "execution_count": 26,
   "metadata": {},
   "outputs": [],
   "source": [
    "import open3d as o3d#open3d library for point cloud processing\n",
    "import numpy as np\n",
    "import subprocess#subprocess library to run c++ script inside python script\n",
    "import os\n",
    "import sys\n",
    "import math\n",
    "import matplotlib.pyplot as plt"
   ]
  },
  {
   "cell_type": "code",
   "execution_count": 2,
   "metadata": {},
   "outputs": [],
   "source": [
    "def furthest_point_sampling(pcd,num_points):\n",
    "    '''\n",
    "    Furthest Point Sampling Algorithm\n",
    "    Takes as input:\n",
    "    pcd->point cloud(.ply) file\n",
    "    num_points->user defined number of points for down-sampling\n",
    "    Returns:new down-sampled point cloud(.ply)\n",
    "    '''\n",
    "    distances = pcd.compute_nearest_neighbor_distance()\n",
    "    farthest_indices = np.zeros((num_points,), dtype=np.int32)\n",
    "    seed = 0\n",
    "    farthest_indices[0] = seed\n",
    "    for i in range(1, num_points):\n",
    "        seed = int(np.argmax(distances))\n",
    "        farthest_indices[i] = seed\n",
    "        distances[seed] = -1 \n",
    "    downpcd=pcd.select_by_index(farthest_indices)\n",
    "    cl, index = downpcd.remove_statistical_outlier(nb_neighbors=400,std_ratio=2)\n",
    "    #outlier_cloud = downpcd.select_by_index(index, invert=True)\n",
    "    return downpcd.select_by_index(index)\n",
    "        "
   ]
  },
  {
   "cell_type": "code",
   "execution_count": 13,
   "metadata": {},
   "outputs": [
    {
     "name": "stdout",
     "output_type": "stream",
     "text": [
      "[PointCloud with 490 points.]\n",
      "[Open3D WARNING] GLFW Error: WGL: Failed to make context current: The handle is invalid. \n",
      "[Open3D WARNING] GLFW Error: WGL: Failed to make context current: The handle is invalid. \n"
     ]
    }
   ],
   "source": [
    "'''\n",
    "...sample usage of Sample() class...\n",
    "file_name: name of the point cloud file in .ply format with coordinates defined in x,y,z format\n",
    "other point cloud file formats can also be used but the format specification needs to be changed in o3d.io.read_point_cloud function  \n",
    "\n",
    "num_points=final number of down-sampled points (user defined)\n",
    "\n",
    "Output:dpcd->down-sampled point cloud\n",
    "o3d.visualization.draw_geometries:to visualize the dpcd point cloud\n",
    "\n",
    "'''\n",
    "file_name=\"cushion_1.ply\"\n",
    "num_points=500\n",
    "pcd=o3d.io.read_point_cloud(file_name,format='xyz')\n",
    "dpcd=furthest_point_sampling(pcd,num_points)\n",
    "print([dpcd])\n",
    "o3d.visualization.draw_geometries([dpcd])"
   ]
  },
  {
   "cell_type": "code",
   "execution_count": 15,
   "metadata": {},
   "outputs": [
    {
     "name": "stdout",
     "output_type": "stream",
     "text": [
      "[Open3D WARNING] GLFW Error: WGL: Failed to make context current: The handle is invalid. \n"
     ]
    }
   ],
   "source": [
    "pcd=o3d.io.read_point_cloud('BR236-A236_1SR_DEF_6W-PP_SAE.ply',format='xyz')\n",
    "o3d.visualization.draw_geometries([pcd])"
   ]
  },
  {
   "cell_type": "code",
   "execution_count": 5,
   "metadata": {},
   "outputs": [],
   "source": [
    "def outlier_remove(pcd,nb_neighbours,std_ratio):\n",
    "    cl, index = pcd.remove_statistical_outlier(nb_neighbours,std_ratio)\n",
    "    inlier_cloud = pcd.select_by_index(index)\n",
    "    outlier_cloud = pcd.select_by_index(index, invert=True)\n",
    "    return pcd.select_by_index(index)"
   ]
  },
  {
   "cell_type": "code",
   "execution_count": 6,
   "metadata": {},
   "outputs": [],
   "source": [
    "pcd=o3d.io.read_point_cloud(\"step_files/cushion_br297.ply\")\n",
    "dpcd=outlier_remove(pcd,5,5)\n",
    "o3d.visualization.draw_geometries([dpcd])"
   ]
  },
  {
   "cell_type": "code",
   "execution_count": 45,
   "metadata": {},
   "outputs": [],
   "source": [
    "def max_list(_list)->[float,float,float]:\n",
    "    max_0,max_1,max_2=-2**20,-2**20,-2**20\n",
    "    for ar in _list:\n",
    "        max_0=max(max_0,ar[0])\n",
    "        max_1=max(max_1,ar[1])\n",
    "        max_2=max(max_2,ar[2])\n",
    "    return max_0,max_1,max_2\n",
    "def min_list(_list)->[float,float,float]:\n",
    "    min_0,min_1,min_2=2**20,2**20,2**20\n",
    "    for ar in _list:\n",
    "        min_0=min(min_0,ar[0])\n",
    "        min_1=min(min_1,ar[1])\n",
    "        min_2=min(min_2,ar[2])\n",
    "    return min_0,min_1,min_2\n",
    "def avg_list(_list)->[float,float,float]:\n",
    "    s_x,s_y,s_z=0,0,0\n",
    "    size=len(_list)\n",
    "    for ar in _list:\n",
    "        s_x+=ar[0]\n",
    "        s_y+=ar[1]\n",
    "        s_z+=ar[2]\n",
    "    if len(_list)==0:size=len(_list)+1\n",
    "    return s_x/size,s_y/size,s_z/size"
   ]
  },
  {
   "cell_type": "code",
   "execution_count": 10,
   "metadata": {},
   "outputs": [],
   "source": [
    "class Parametrize():\n",
    "    '''\n",
    "    cushion length\n",
    "    cushion width\n",
    "    insert width\n",
    "    bolster width\n",
    "    cushion angle\n",
    "    bolster angle\n",
    "    '''\n",
    "    def __init__(self,pcd):\n",
    "        self.points=np.asarray([pcd.points])\n",
    "        if self.points.ndim==3:self.points=self.points[0]\n",
    "        self.cushion_length=0\n",
    "        self.cushion_width=0\n",
    "        self.insert_width=0\n",
    "        self.bolster_width=0\n",
    "        self.cushion_angle=0\n",
    "        self.bolster_angle=0\n",
    "    def insert(self)->list:\n",
    "        _max=np.max(self.points,axis=0)\n",
    "        _min=np.min(self.points,axis=0)\n",
    "        avg_y=float((_max[1]+_min[1])/2)\n",
    "        avg_x=float((_max[0]+_min[0])/2)\n",
    "        center_xy=[]\n",
    "        for ar in self.points:\n",
    "            if np.abs(float(ar[1])-avg_y)<1 and np.abs(float(ar[0])-avg_x)<1 :center_xy.append(ar)\n",
    "        insert_center_z=max_list(center_xy)[2]\n",
    "        list_cushion_angle=[]\n",
    "        for ar in self.points:\n",
    "            if np.abs(ar[2]-insert_center_z)<5:list_cushion_angle.append(ar)\n",
    "        cushion_angle=np.abs(math.degrees(math.atan((list_cushion_angle[1][2]-list_cushion_angle[0][2])/(list_cushion_angle[1][0]-list_cushion_angle[0][0]))))\n",
    "        list_insert_width=[]\n",
    "        for ar in self.points:\n",
    "            if np.abs(float(ar[2])-float(insert_center_z))<2 and np.abs(float(ar[0])-float(avg_x))<2:list_insert_width.append(ar)\n",
    "        insert_width=np.abs(max_list(list_insert_width)[1]-min_list(list_insert_width)[1])\n",
    "        list_cushion_length=[]\n",
    "        for ar in self.points:\n",
    "            if ar[2]==insert_center_z and np.abs(ar[1]-avg_y)<1:list_cushion_length.append(ar)\n",
    "        list_insert_z_max_x_min=[]\n",
    "        for ar in self.points:\n",
    "            if ar[0]<avg_x and np.abs(ar[1]-avg_y)<1:list_insert_z_max_x_min.append(ar)\n",
    "        insert_z_max_x_min=max_list(list_insert_z_max_x_min)[2]\n",
    "        list_insert_x_min=[]\n",
    "        list_insert_x_max=[]\n",
    "        for ar in self.points:\n",
    "            if ar[2]==insert_z_max_x_min:list_insert_x_min.append(ar)\n",
    "        insert_x_min=min_list(list_insert_x_min)[0]\n",
    "        for ar in self.points:\n",
    "            if np.abs(ar[1]-avg_y)<1 and np.abs(ar[2]-insert_center_z)<5:list_insert_x_max.append(ar)\n",
    "        insert_x_max=max_list(list_insert_x_max)[0]\n",
    "        cushion_length=insert_x_max-insert_x_min\n",
    "        insert_center_x=(insert_x_max+insert_x_min)/2\n",
    "        list_cushion_center_z=[]\n",
    "        for ar in self.points:\n",
    "            if np.abs(ar[0]-insert_center_x)<1 and np.abs(ar[1]-avg_y)<1:list_cushion_center_z.append(ar)\n",
    "        cushion_center_z=avg_list(list_cushion_center_z)[2]\n",
    "        list_insert_center_line=[]\n",
    "        for ar in self.points:\n",
    "            if np.abs(ar[0]-insert_center_x)<1 :list_insert_center_line.append(ar)\n",
    "        list_insert_center_line.sort(key=lambda x:x[1])\n",
    "        bolster_max=max_list(list_insert_center_line)\n",
    "        list_cushion_common=[]\n",
    "        for i in range(int(len(list_insert_center_line)*0.3),int(len(list_insert_center_line)*0.7)):\n",
    "            list_cushion_common.append(list_insert_center_line[i])\n",
    "        cushion_common=max_list(list_cushion_common)\n",
    "        bolster_width=np.abs(cushion_common[1]-bolster_max[1])\n",
    "        cushion_width=2*bolster_width+insert_width\n",
    "        bolster_angle=math.degrees(math.atan((cushion_common[2]-bolster_max[2])/(cushion_common[1]-bolster_max[1])))\n",
    "        return insert_width,cushion_width,cushion_length,bolster_width,cushion_angle,bolster_angle"
   ]
  },
  {
   "cell_type": "code",
   "execution_count": 17,
   "metadata": {},
   "outputs": [
    {
     "name": "stdout",
     "output_type": "stream",
     "text": [
      "insert width: 477.26399999999995 \n",
      "cushion width: 748.2739999999999 \n",
      "cushion length: 352.28 \n",
      "bolster width: 135.505 \n",
      "cushion angle: 19.210074095634802 \n",
      "bolster angle: 31.075551336536055 \n",
      "\n"
     ]
    }
   ],
   "source": [
    "pcd=o3d.io.read_point_cloud(\"step_files/cushion_br297.ply\")\n",
    "dpcd=outlier_remove(pcd,5,5)\n",
    "param=Parametrize(dpcd)\n",
    "insert_width,cushion_width,cushion_length,bolster_width,cushion_angle,bolster_angle=param.insert()\n",
    "print(f\"insert width: {insert_width} \\ncushion width: {cushion_width} \\ncushion length: {cushion_length} \\nbolster width: {bolster_width} \\ncushion angle: {cushion_angle} \\nbolster angle: {bolster_angle} \\n\")"
   ]
  },
  {
   "cell_type": "code",
   "execution_count": 106,
   "metadata": {},
   "outputs": [
    {
     "name": "stdout",
     "output_type": "stream",
     "text": [
      "insert width: 477.26399999999995 \n",
      "cushion width: 748.2739999999999 \n",
      "cushion length: 352.28 \n",
      "bolster width: 135.505 \n",
      "cushion angle: 19.210074095634802 \n",
      "bolster angle: 31.075551336536055 \n",
      "\n"
     ]
    }
   ],
   "source": [
    "pcd=o3d.io.read_point_cloud(\"step_files/cushion_br297.ply\")\n",
    "dpcd=outlier_remove(pcd,5,5)\n",
    "param=Parametrize(dpcd)\n",
    "insert_width,cushion_width,cushion_length,bolster_width,cushion_angle,bolster_angle=param.insert()\n",
    "print(f\"insert width: {insert_width} \\ncushion width: {cushion_width} \\ncushion length: {cushion_length} \\nbolster width: {bolster_width} \\ncushion angle: {cushion_angle} \\nbolster angle: {bolster_angle} \\n\")"
   ]
  },
  {
   "cell_type": "code",
   "execution_count": 75,
   "metadata": {},
   "outputs": [],
   "source": [
    "pcd=o3d.io.read_point_cloud(\"step_files/cushion_v530.ply\")\n",
    "dpcd=outlier_remove(pcd,5,5)\n",
    "o3d.visualization.draw_geometries([dpcd])"
   ]
  },
  {
   "cell_type": "code",
   "execution_count": 107,
   "metadata": {},
   "outputs": [
    {
     "name": "stdout",
     "output_type": "stream",
     "text": [
      "insert width: 342.75500000000005 \n",
      "cushion width: 529.933 \n",
      "cushion length: 300.68000000000006 \n",
      "bolster width: 93.589 \n",
      "cushion angle: 18.440475569264795 \n",
      "bolster angle: 17.682740980171825 \n",
      "\n"
     ]
    }
   ],
   "source": [
    "pcd=o3d.io.read_point_cloud(\"step_files/cushion_v530.ply\")\n",
    "dpcd=outlier_remove(pcd,5,4)\n",
    "param=Parametrize(dpcd)\n",
    "insert_width,cushion_width,cushion_length,bolster_width,cushion_angle,bolster_angle=param.insert()\n",
    "print(f\"insert width: {insert_width} \\ncushion width: {cushion_width} \\ncushion length: {cushion_length} \\nbolster width: {bolster_width} \\ncushion angle: {cushion_angle} \\nbolster angle: {bolster_angle} \\n\")"
   ]
  },
  {
   "cell_type": "code",
   "execution_count": 80,
   "metadata": {},
   "outputs": [],
   "source": [
    "def par(points,th=15):\n",
    "    _max=np.max(points,axis=0)\n",
    "    _min=np.min(points,axis=0)\n",
    "    x_avg=float((_max[0]+_min[0])/2)\n",
    "    y_avg=float((_max[1]+_min[1])/2)\n",
    "    cl=[]\n",
    "    for ar in points:\n",
    "        if np.abs(ar[1]-y_avg)<1 :cl.append(ar)\n",
    "    cl.sort(key=lambda x:x[0])\n",
    "    _clh=[]\n",
    "    zm=cl[0][2]\n",
    "    pn=cl[0]\n",
    "    for i in range(1,len(cl)):\n",
    "        if int(cl[i-1][0])==int(cl[i][0]):\n",
    "            zm=max(zm,cl[i][2])\n",
    "            if zm==cl[i][2]:pn=cl[i]\n",
    "        else:\n",
    "            _clh.append(pn)\n",
    "            zm=cl[i][2]\n",
    "    clh=[]\n",
    "    _clh.sort(key=lambda x:x[0])\n",
    "    for i in range(len(_clh)-1):\n",
    "        if _clh[i][0]!=_clh[i+1][0]:clh.append(_clh[i])\n",
    "    clh.sort(key=lambda x:x[0])\n",
    "    x_axis,z_axis=[],[]\n",
    "    for i in range(len(clh)-1):\n",
    "        x_axis.append(clh[i][0])\n",
    "        z_axis.append(clh[i][2])\n",
    "    new_z=[]\n",
    "    new_x=[]\n",
    "    new_z.append(z_axis[0])\n",
    "    new_x.append(x_axis[0])\n",
    "    for x,z in zip(x_axis[1:],z_axis[1:]):\n",
    "        if np.abs(z-new_z[-1])<th:\n",
    "            new_z.append(z)\n",
    "            new_x.append(x)\n",
    "    grad=[]\n",
    "    for i in range(len(new_x)-1):\n",
    "        grad.append((new_z[i+1]-new_z[i])/(new_x[i+1]-new_x[i]))\n",
    "    lx=[]\n",
    "    for i in range(len(new_x)-1):lx.append(new_x[i])\n",
    "    dgrad=[]\n",
    "    for i in range(1,len(lx)-1):\n",
    "        dgrad.append((grad[i+1]-grad[i-1])/(2*(lx[i+1]-lx[i-1])))\n",
    "    dfl_x=[]\n",
    "    for d,x in zip(dgrad,lx):\n",
    "        if np.abs(d)>0.1:dfl_x.append(x)\n",
    "    x_cushion_min,x_cushion_max=0,0\n",
    "    for i in range(len(dfl_x)-1):\n",
    "        if dfl_x[i+1]-dfl_x[i]>50:\n",
    "            x_cushion_min=dfl_x[i]\n",
    "            x_cushion_max=dfl_x[i+1]\n",
    "            break\n",
    "    cushion_max=cl[0]\n",
    "    cushion_min=cl[0]\n",
    "    for ar in cl:\n",
    "        if ar[0]==x_cushion_max:cushion_max=ar\n",
    "        if ar[0]==x_cushion_min:cushion_min=ar\n",
    "    cushion_angle=math.degrees(math.atan((cushion_max[2]-cushion_min[2])/(cushion_max[0]-cushion_min[0])))\n",
    "    pl=[]\n",
    "    for ar in points:\n",
    "        if np.abs(ar[1]-y_avg)>40:pl.append(ar)\n",
    "    z_bolster_max=max_list(pl)[2]\n",
    "    l_z_bolster_max=[]\n",
    "    for ar in points:\n",
    "        if ar[2]==z_bolster_max and np.abs(ar[1]-y_avg)>20:l_z_bolster_max.append(ar)\n",
    "    y_bolster_max=max_list(l_z_bolster_max)[1]\n",
    "    y_bolster_min=min_list(l_z_bolster_max)[1]\n",
    "    cushion_width=np.abs(y_bolster_max-y_bolster_min)\n",
    "    pl=[]\n",
    "    for ar in points:\n",
    "        if np.abs(ar[1]-y_avg)>40:pl.append(ar)\n",
    "    zb_max=max_list(pl)[2]\n",
    "    l_zb_max=[]\n",
    "    for ar in points:\n",
    "        if ar[2]==zb_max and np.abs(ar[1]-y_avg)>40:l_zb_max.append(ar)\n",
    "    max_b,min_b=max_list(l_zb_max),min_list(l_zb_max)\n",
    "    bl=[]\n",
    "    for ar in points:\n",
    "        if ar[0]==max_b[0]:bl.append(ar)\n",
    "    bl.sort(key=lambda x:x[1])\n",
    "    zc=min_list(bl)[2]\n",
    "    lc=[]\n",
    "    for ar in bl:\n",
    "        if np.abs(ar[2]-zc)<1:lc.append(ar)\n",
    "    cl_max,cl_min=max_list(lc),min_list(lc)\n",
    "    bolster_angle=math.degrees(math.atan((cl_max[2]-max_b[2])/(cl_max[1]-max_b[1])))\n",
    "    bolster_width=2*np.abs(cl_max[1]-max_b[1])\n",
    "    return cushion_max[0]-cushion_min[0],cushion_angle,cushion_width,bolster_angle,bolster_width"
   ]
  },
  {
   "cell_type": "code",
   "execution_count": 85,
   "metadata": {},
   "outputs": [
    {
     "name": "stdout",
     "output_type": "stream",
     "text": [
      "cushion width: 581.518 \n",
      "cushion length: 472.52 \n",
      "bolster width: 178.87800000000004 \n",
      "cushion angle: -14.684989673303313 \n",
      "bolster angle: 32.14733565027893 \n",
      "insert width:402.64000000000004\n"
     ]
    }
   ],
   "source": [
    "pcd=o3d.io.read_point_cloud(\"step_files/cushion_br297.ply\")\n",
    "dpcd=outlier_remove(pcd,5,4)\n",
    "cushion_length,cushion_angle,cushion_width,bolster_angle,bolster_width=par(np.asarray([dpcd.points])[0])\n",
    "print(f\"cushion width: {cushion_width+bolster_width} \\ncushion length: {cushion_length} \\nbolster width: {bolster_width} \\ncushion angle: {cushion_angle} \\nbolster angle: {bolster_angle} \\ninsert width:{cushion_width}\")"
   ]
  },
  {
   "cell_type": "code",
   "execution_count": 84,
   "metadata": {},
   "outputs": [
    {
     "name": "stderr",
     "output_type": "stream",
     "text": [
      "C:\\Users\\VAVIKAS\\AppData\\Local\\Temp\\ipykernel_34524\\2419913495.py:59: RuntimeWarning: invalid value encountered in scalar divide\n",
      "  cushion_angle=math.degrees(math.atan((cushion_max[2]-cushion_min[2])/(cushion_max[0]-cushion_min[0])))\n"
     ]
    },
    {
     "name": "stdout",
     "output_type": "stream",
     "text": [
      "cushion width: 141.48199999999997 \n",
      "cushion length: 0.0 \n",
      "bolster width: 141.48199999999997 \n",
      "cushion angle: nan \n",
      "bolster angle: 62.35681448143364 \n",
      "\n"
     ]
    }
   ],
   "source": [
    "pcd=o3d.io.read_point_cloud(\"step_files/cushion_v530.ply\")\n",
    "dpcd=outlier_remove(pcd,5,4)\n",
    "cushion_length,cushion_angle,cushion_width,bolster_angle,bolster_width=par(np.asarray([dpcd.points])[0],th=10)\n",
    "print(f\"cushion width: {cushion_width} \\ncushion length: {cushion_length} \\nbolster width: {bolster_width} \\ncushion angle: {cushion_angle} \\nbolster angle: {bolster_angle} \\n\")"
   ]
  }
 ],
 "metadata": {
  "kernelspec": {
   "display_name": "venv",
   "language": "python",
   "name": "python3"
  },
  "language_info": {
   "codemirror_mode": {
    "name": "ipython",
    "version": 3
   },
   "file_extension": ".py",
   "mimetype": "text/x-python",
   "name": "python",
   "nbconvert_exporter": "python",
   "pygments_lexer": "ipython3",
   "version": "3.10.8"
  }
 },
 "nbformat": 4,
 "nbformat_minor": 2
}
