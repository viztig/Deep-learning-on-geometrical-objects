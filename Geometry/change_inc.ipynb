{
 "cells": [
  {
   "cell_type": "code",
   "execution_count": null,
   "metadata": {},
   "outputs": [],
   "source": [
    "#Author:VAIBHAV VIKAS(VAVIKAS)"
   ]
  },
  {
   "cell_type": "code",
   "execution_count": 1,
   "metadata": {},
   "outputs": [
    {
     "name": "stdout",
     "output_type": "stream",
     "text": [
      "Jupyter environment detected. Enabling Open3D WebVisualizer.\n",
      "[Open3D INFO] WebRTC GUI backend enabled.\n",
      "[Open3D INFO] WebRTCWindowSystem: HTTP handshake server disabled.\n"
     ]
    }
   ],
   "source": [
    "import open3d as o3d\n",
    "import numpy as np\n",
    "import subprocess"
   ]
  },
  {
   "cell_type": "code",
   "execution_count": 5,
   "metadata": {},
   "outputs": [
    {
     "data": {
      "text/plain": [
       "'\\nSample Usage of Permutations generation Script\\nstart=starting kPa value of stiffness from where you want to start the permutation\\nend=Last kPa value of stiffness at where you want to end the permutation\\nstep= how many steps should be taken for generating permutation from strat to end kPa values\\n'"
      ]
     },
     "execution_count": 5,
     "metadata": {},
     "output_type": "execute_result"
    }
   ],
   "source": [
    "'''\n",
    "Sample usage of Permutations generation Script\n",
    "To chaeck the number of permutations of the material kPa values generated\n",
    "\n",
    "start=starting kPa value of stiffness from where you want to start the permutation\n",
    "end=Last kPa value of stiffness at where you want to end the permutation\n",
    "step= how many steps should be taken for generating permutation from strat to end kPa values\n",
    "'''"
   ]
  },
  {
   "cell_type": "code",
   "execution_count": 4,
   "metadata": {},
   "outputs": [
    {
     "name": "stdout",
     "output_type": "stream",
     "text": [
      "CompletedProcess(args=['./a.exe', '5', '10', '2'], returncode=0, stdout='number of permutations generated: 7\\n\\n\\n\\n5 5 7 7 \\n5 5 7 9 \\n5 5 9 7 \\n5 5 9 9 \\n5 7 9 9 \\n7 5 9 9 \\n7 7 9 9 \\n')\n"
     ]
    }
   ],
   "source": [
    "start=5\n",
    "end=10\n",
    "step=2\n",
    "subprocess.run([\"g++\", \"permutations.cpp\", \"-o\", \"./a.exe\"])\n",
    "cpp_args = [str(start),str(end),str(step)]\n",
    "output=subprocess.run([\"./a.exe\"]+cpp_args, stdout=subprocess.PIPE, text=True)\n",
    "print(output)"
   ]
  },
  {
   "cell_type": "code",
   "execution_count": null,
   "metadata": {},
   "outputs": [],
   "source": [
    "'''\n",
    "Sample usage of INC file changing script\n",
    "To change the inc files based on different material kPa values generated\n",
    "input_folder: the folder containing original inc files\n",
    "output_folder: the folder where you want to save the new inc files with changed material values\n",
    "start=starting kPa value of stiffness from where you want to start the permutation\n",
    "end=Last kPa value of stiffness at where you want to end the permutation\n",
    "step= how many steps should be taken for generating permutation from strat to end kPa values\n",
    "'''"
   ]
  },
  {
   "cell_type": "code",
   "execution_count": 3,
   "metadata": {},
   "outputs": [
    {
     "data": {
      "text/plain": [
       "CompletedProcess(args=['./a.exe', 'old_inp', 'new_inp', '5', '10', '2'], returncode=0, stdout='')"
      ]
     },
     "execution_count": 3,
     "metadata": {},
     "output_type": "execute_result"
    }
   ],
   "source": [
    "input_folder=\"old_inp\"\n",
    "output_folder=\"new_inp\"\n",
    "start=5\n",
    "end=10\n",
    "step=2\n",
    "subprocess.run([\"g++\", \"change_inc.cpp\", \"-o\", \"./a.exe\"])\n",
    "cpp_args = [input_folder,output_folder,str(start),str(end),str(step)]\n",
    "subprocess.run([\"./a.exe\"]+cpp_args, stdout=subprocess.PIPE, text=True)"
   ]
  }
 ],
 "metadata": {
  "kernelspec": {
   "display_name": "venv",
   "language": "python",
   "name": "python3"
  },
  "language_info": {
   "codemirror_mode": {
    "name": "ipython",
    "version": 3
   },
   "file_extension": ".py",
   "mimetype": "text/x-python",
   "name": "python",
   "nbconvert_exporter": "python",
   "pygments_lexer": "ipython3",
   "version": "3.10.8"
  }
 },
 "nbformat": 4,
 "nbformat_minor": 2
}
